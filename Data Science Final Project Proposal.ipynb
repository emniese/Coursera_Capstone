{
    "cells": [
        {
            "cell_type": "markdown",
            "metadata": {
                "collapsed": true
            },
            "source": "# Background\n\nFor this project I am interested in opening a contemporary casual restaurant in Atlanta, GA with a focus on locally sourced food.  With Atlanta's increasing population of educated professionals and the current interest in sustainable food, there should be at least one neighborhood in Atlanta that can support such a restaurant.  To identify an optimal location for this restaurant I will need to look for areas of the city that has other mid to high end restaurants, indicating that local residents have the financial resources needed to eat out regularly, but is not oversaturated with such options.  Another issue that would need to be addressed prior to opening such a restaurant is finding sufficient local farmers to purchase food from,but that is outside the scope of this project."
        },
        {
            "cell_type": "markdown",
            "metadata": {},
            "source": "# Data \n\nThe neighborhood data is available at https://opendata.arcgis.com/datasets/d6298dee8938464294d3f49d473bcf15_196.csv.  To identify an appropriate neighborhood for the restaurant we will need to \n1. identify the geographic location of each neighborhood,\n2. use the Foursquare API to find venues in each neighborhood, and\n3. use k-means clustering to identify which neighborhoods are likely to support the restaurant.\n"
        },
        {
            "cell_type": "markdown",
            "metadata": {},
            "source": "#### Read the data into a pandas dataframe"
        },
        {
            "cell_type": "code",
            "execution_count": 6,
            "metadata": {},
            "outputs": [],
            "source": "import pandas as pd\nimport csv\nimport requests # library to handle requests\n\ndf=pd.read_csv(\"https://opendata.arcgis.com/datasets/d6298dee8938464294d3f49d473bcf15_196.csv\")  #read the csv file into a dataframe"
        },
        {
            "cell_type": "code",
            "execution_count": 7,
            "metadata": {},
            "outputs": [
                {
                    "data": {
                        "text/html": "<div>\n<style scoped>\n    .dataframe tbody tr th:only-of-type {\n        vertical-align: middle;\n    }\n\n    .dataframe tbody tr th {\n        vertical-align: top;\n    }\n\n    .dataframe thead th {\n        text-align: right;\n    }\n</style>\n<table border=\"1\" class=\"dataframe\">\n  <thead>\n    <tr style=\"text-align: right;\">\n      <th></th>\n      <th>OBJECTID</th>\n      <th>NPU</th>\n      <th>STATISTICA</th>\n      <th>POP2010</th>\n      <th>NEIGHBORHO</th>\n      <th>URL</th>\n      <th>A</th>\n      <th>pop</th>\n      <th>white</th>\n      <th>black</th>\n      <th>asian</th>\n      <th>other</th>\n      <th>hispanic</th>\n      <th>GlobalID</th>\n      <th>last_edited_date</th>\n    </tr>\n  </thead>\n  <tbody>\n    <tr>\n      <th>0</th>\n      <td>1</td>\n      <td>NPU C</td>\n      <td>C04</td>\n      <td>2672</td>\n      <td>Arden/Habersham, Argonne Forest, Peachtree Bat...</td>\n      <td>http://documents.atlantaregional.com/AtlantaPr...</td>\n      <td>Arden/Habersham, Argonne Forest, Peachtree Bat...</td>\n      <td>2672</td>\n      <td>96.3</td>\n      <td>0.9</td>\n      <td>1.0</td>\n      <td>0.5</td>\n      <td>1.3</td>\n      <td>{6018B100-48DF-4B88-85B7-C4095D15897D}</td>\n      <td>1970/01/01 00:00:00+00</td>\n    </tr>\n    <tr>\n      <th>1</th>\n      <td>2</td>\n      <td>NPU B</td>\n      <td>B10</td>\n      <td>3736</td>\n      <td>Peachtree Heights East, Peachtree Hills</td>\n      <td>http://documents.atlantaregional.com/AtlantaPr...</td>\n      <td>Peachtree Heights East, Peachtree Hills</td>\n      <td>3736</td>\n      <td>86.6</td>\n      <td>5.9</td>\n      <td>2.0</td>\n      <td>1.8</td>\n      <td>3.7</td>\n      <td>{FA9A3ABB-FA59-43CD-92A8-B3BFCA21CB1D}</td>\n      <td>1970/01/01 00:00:00+00</td>\n    </tr>\n    <tr>\n      <th>2</th>\n      <td>3</td>\n      <td>NPU B</td>\n      <td>B01</td>\n      <td>4874</td>\n      <td>Peachtree Heights West</td>\n      <td>http://documents.atlantaregional.com/AtlantaPr...</td>\n      <td>Peachtree Heights West</td>\n      <td>4874</td>\n      <td>77.0</td>\n      <td>14.5</td>\n      <td>2.9</td>\n      <td>2.0</td>\n      <td>3.6</td>\n      <td>{405F0DA9-A4EE-4394-A4D9-B502065504DF}</td>\n      <td>1970/01/01 00:00:00+00</td>\n    </tr>\n    <tr>\n      <th>3</th>\n      <td>4</td>\n      <td>NPU B</td>\n      <td>B02</td>\n      <td>3372</td>\n      <td>Buckhead Forest, South Tuxedo Park</td>\n      <td>http://documents.atlantaregional.com/AtlantaPr...</td>\n      <td>Buckhead Forest, South Tuxedo Park</td>\n      <td>3372</td>\n      <td>77.5</td>\n      <td>9.0</td>\n      <td>3.5</td>\n      <td>2.0</td>\n      <td>8.1</td>\n      <td>{CF68D35A-64DD-4711-A9F3-A5CA932168AF}</td>\n      <td>1970/01/01 00:00:00+00</td>\n    </tr>\n    <tr>\n      <th>4</th>\n      <td>5</td>\n      <td>NPU A</td>\n      <td>A03</td>\n      <td>3423</td>\n      <td>Chastain Park, Tuxedo Park</td>\n      <td>http://documents.atlantaregional.com/AtlantaPr...</td>\n      <td>Chastain Park, Tuxedo Park</td>\n      <td>3423</td>\n      <td>93.8</td>\n      <td>0.7</td>\n      <td>2.6</td>\n      <td>1.1</td>\n      <td>1.8</td>\n      <td>{63D6A42F-7787-452A-BF77-56102A6C955F}</td>\n      <td>1970/01/01 00:00:00+00</td>\n    </tr>\n  </tbody>\n</table>\n</div>",
                        "text/plain": "   OBJECTID    NPU STATISTICA  POP2010  \\\n0         1  NPU C        C04     2672   \n1         2  NPU B        B10     3736   \n2         3  NPU B        B01     4874   \n3         4  NPU B        B02     3372   \n4         5  NPU A        A03     3423   \n\n                                          NEIGHBORHO  \\\n0  Arden/Habersham, Argonne Forest, Peachtree Bat...   \n1            Peachtree Heights East, Peachtree Hills   \n2                             Peachtree Heights West   \n3                 Buckhead Forest, South Tuxedo Park   \n4                         Chastain Park, Tuxedo Park   \n\n                                                 URL  \\\n0  http://documents.atlantaregional.com/AtlantaPr...   \n1  http://documents.atlantaregional.com/AtlantaPr...   \n2  http://documents.atlantaregional.com/AtlantaPr...   \n3  http://documents.atlantaregional.com/AtlantaPr...   \n4  http://documents.atlantaregional.com/AtlantaPr...   \n\n                                                   A   pop  white  black  \\\n0  Arden/Habersham, Argonne Forest, Peachtree Bat...  2672   96.3    0.9   \n1            Peachtree Heights East, Peachtree Hills  3736   86.6    5.9   \n2                             Peachtree Heights West  4874   77.0   14.5   \n3                 Buckhead Forest, South Tuxedo Park  3372   77.5    9.0   \n4                         Chastain Park, Tuxedo Park  3423   93.8    0.7   \n\n   asian  other  hispanic                                GlobalID  \\\n0    1.0    0.5       1.3  {6018B100-48DF-4B88-85B7-C4095D15897D}   \n1    2.0    1.8       3.7  {FA9A3ABB-FA59-43CD-92A8-B3BFCA21CB1D}   \n2    2.9    2.0       3.6  {405F0DA9-A4EE-4394-A4D9-B502065504DF}   \n3    3.5    2.0       8.1  {CF68D35A-64DD-4711-A9F3-A5CA932168AF}   \n4    2.6    1.1       1.8  {63D6A42F-7787-452A-BF77-56102A6C955F}   \n\n         last_edited_date  \n0  1970/01/01 00:00:00+00  \n1  1970/01/01 00:00:00+00  \n2  1970/01/01 00:00:00+00  \n3  1970/01/01 00:00:00+00  \n4  1970/01/01 00:00:00+00  "
                    },
                    "execution_count": 7,
                    "metadata": {},
                    "output_type": "execute_result"
                }
            ],
            "source": "df.head()  "
        },
        {
            "cell_type": "code",
            "execution_count": 9,
            "metadata": {},
            "outputs": [
                {
                    "data": {
                        "text/plain": "(102, 15)"
                    },
                    "execution_count": 9,
                    "metadata": {},
                    "output_type": "execute_result"
                }
            ],
            "source": "df.shape  #There are 102 neighborhood statistical areas in Atlanta."
        },
        {
            "cell_type": "code",
            "execution_count": null,
            "metadata": {},
            "outputs": [],
            "source": ""
        }
    ],
    "metadata": {
        "kernelspec": {
            "display_name": "Python 3.6",
            "language": "python",
            "name": "python3"
        },
        "language_info": {
            "codemirror_mode": {
                "name": "ipython",
                "version": 3
            },
            "file_extension": ".py",
            "mimetype": "text/x-python",
            "name": "python",
            "nbconvert_exporter": "python",
            "pygments_lexer": "ipython3",
            "version": "3.6.9"
        }
    },
    "nbformat": 4,
    "nbformat_minor": 1
}