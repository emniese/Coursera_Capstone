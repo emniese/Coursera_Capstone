{
    "cells": [
        {
            "cell_type": "markdown",
            "metadata": {
                "collapsed": true
            },
            "source": "# Background\n\nFor this project I am interested in opening a contemporary casual restaurant in Charlotte, North Carolina with a focus on locally sourced food.  With Charlotte's rapid growth and the current interest in sustainable food, there should be at least one neighborhood in Charlotte that can support such a restaurant.  To identify an optimal location for this restaurant I will need to look for areas of the city that has other mid to high end restaurants, indicating that locals have the financial resources needed to eat out re but is not oversaturated with such options.  Such a neighborhood would have other mid range restaurants and a geographic location with enough residents to support a new restaurant.  Another issue that would need to be addressed prior to opening such a restaurant is finding sufficient local farmers to purchase food from,but that is outside the scope of this project."
        },
        {
            "cell_type": "markdown",
            "metadata": {},
            "source": "# Data \n\nThe neighborhood data is available at https://en.wikipedia.org/wiki/List_of_Charlotte_neighborhoods.  To identify an appropriate neighborhood for the restaurant we will need to \n1. identify the geographic location of each neighborhood,\n2. use the Foursquare API to find venues in each neighborhood, and\n3. use k-means clustering to identify which neighborhoods are likely to support the restaurant.\n"
        },
        {
            "cell_type": "code",
            "execution_count": null,
            "metadata": {},
            "outputs": [],
            "source": ""
        }
    ],
    "metadata": {
        "kernelspec": {
            "display_name": "Python 3.6",
            "language": "python",
            "name": "python3"
        },
        "language_info": {
            "codemirror_mode": {
                "name": "ipython",
                "version": 3
            },
            "file_extension": ".py",
            "mimetype": "text/x-python",
            "name": "python",
            "nbconvert_exporter": "python",
            "pygments_lexer": "ipython3",
            "version": "3.6.9"
        }
    },
    "nbformat": 4,
    "nbformat_minor": 1
}